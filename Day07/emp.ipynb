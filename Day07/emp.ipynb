{
 "cells": [
  {
   "cell_type": "code",
   "execution_count": 3,
   "id": "3fb8a658",
   "metadata": {},
   "outputs": [
    {
     "data": {
      "text/plain": [
       "(4653, 9)"
      ]
     },
     "execution_count": 3,
     "metadata": {},
     "output_type": "execute_result"
    }
   ],
   "source": [
    "import pandas as pd\n",
    "df = pd.read_csv('Employee.csv')\n",
    "df.head()\n",
    "df.shape"
   ]
  },
  {
   "cell_type": "code",
   "execution_count": 7,
   "id": "fc99f19a",
   "metadata": {},
   "outputs": [
    {
     "name": "stdout",
     "output_type": "stream",
     "text": [
      "    Education  JoiningYear       City  PaymentTier  Age  Gender EverBenched  \\\n",
      "0   Bachelors         2017  Bangalore            3   34    Male          No   \n",
      "3     Masters         2016  Bangalore            3   27    Male          No   \n",
      "5   Bachelors         2016  Bangalore            3   22    Male          No   \n",
      "7   Bachelors         2016  Bangalore            3   34  Female          No   \n",
      "10    Masters         2012  Bangalore            3   27    Male          No   \n",
      "\n",
      "    ExperienceInCurrentDomain  LeaveOrNot  \n",
      "0                           0           0  \n",
      "3                           5           1  \n",
      "5                           0           0  \n",
      "7                           2           1  \n",
      "10                          5           1  \n",
      "(2228, 9)\n"
     ]
    }
   ],
   "source": [
    "blr_emp_df = df[df['City'] == 'Bangalore']\n",
    "print(blr_emp_df.head())\n",
    "print(blr_emp_df.shape)\n",
    "blr_emp_df.to_csv('blr.csv')"
   ]
  },
  {
   "cell_type": "code",
   "execution_count": 9,
   "id": "29f27491",
   "metadata": {},
   "outputs": [
    {
     "name": "stdout",
     "output_type": "stream",
     "text": [
      "    Education  JoiningYear       City  PaymentTier  Age  Gender EverBenched  \\\n",
      "7   Bachelors         2016  Bangalore            3   34  Female          No   \n",
      "16  Bachelors         2014  Bangalore            3   34  Female          No   \n",
      "52  Bachelors         2016  Bangalore            3   34  Female          No   \n",
      "53  Bachelors         2014  Bangalore            3   31  Female         Yes   \n",
      "69    Masters         2017  Bangalore            3   40  Female          No   \n",
      "\n",
      "    ExperienceInCurrentDomain  LeaveOrNot  \n",
      "7                           2           1  \n",
      "16                          2           0  \n",
      "52                          0           0  \n",
      "53                          5           0  \n",
      "69                          2           1  \n",
      "(222, 9)\n"
     ]
    }
   ],
   "source": [
    "blr_aunty_df = df[(df['City'] == 'Bangalore') & \n",
    "                  (df['Gender'] == 'Female') & (df['Age'] > 30)]\n",
    "print(blr_aunty_df.head())\n",
    "print(blr_aunty_df.shape)\n",
    "blr_aunty_df.to_csv('blr_aunty.csv')"
   ]
  }
 ],
 "metadata": {
  "kernelspec": {
   "display_name": "Python 3",
   "language": "python",
   "name": "python3"
  },
  "language_info": {
   "codemirror_mode": {
    "name": "ipython",
    "version": 3
   },
   "file_extension": ".py",
   "mimetype": "text/x-python",
   "name": "python",
   "nbconvert_exporter": "python",
   "pygments_lexer": "ipython3",
   "version": "3.12.1"
  }
 },
 "nbformat": 4,
 "nbformat_minor": 5
}
